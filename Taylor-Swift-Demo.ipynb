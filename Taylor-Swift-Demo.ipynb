{
 "cells": [
  {
   "cell_type": "markdown",
   "metadata": {},
   "source": [
    "# Taylor Swift Song Matching Demo"
   ]
  },
  {
   "cell_type": "markdown",
   "metadata": {},
   "source": [
    "### First, import the packages you'll need"
   ]
  },
  {
   "cell_type": "markdown",
   "metadata": {},
   "source": [
    "If you don't have numpy, you'll need to get it, but it should come with most standard python packages."
   ]
  },
  {
   "cell_type": "code",
   "execution_count": 1,
   "metadata": {},
   "outputs": [],
   "source": [
    "from taylorswift import *"
   ]
  },
  {
   "cell_type": "markdown",
   "metadata": {},
   "source": [
    "### Then run the code!"
   ]
  },
  {
   "cell_type": "markdown",
   "metadata": {},
   "source": [
    "The example below demonstrates the author's representation of their relationship with the James Webb Space Telescope. When you run the code, you'll be able to input your own answers and get your own personalized song list based on the details of your relationship."
   ]
  },
  {
   "cell_type": "code",
   "execution_count": 2,
   "metadata": {},
   "outputs": [
    {
     "name": "stdout",
     "output_type": "stream",
     "text": [
      "\n",
      "\t    For these first four questions, if you are in a relationship, answer them with respect to your current relationship. If you are not currently in a relationship, answer them by considering either your most recent past relationship, or a potential relationship on the horizon, whichever you prefer.\n",
      "\t    \n",
      "\t    Which of these best describes your relationship?\n",
      "\t    1 - Our relationship ended because of cataclysmic past offenses. OR Our relationship has some serious problems.\n",
      "\t    2 - My feelings were a bit hurt when our relationship ended. OR Our relationship is going ok but has some problems.\n",
      "\t    3 - Our relationship ended, but not in a horribly bad way. It just ended. OR I feel pretty mediocre about the quality of our relationship.\n",
      "\t    4 - I wish I was in a relationship, but I don't think it will happen right now. OR I'm happy without a relationship right now.\n",
      "\t    5 - My relationship is pretty casual at the moment, not official or anything. OR I look back fondly on my past relationship, without feeling hurt or angry.\n",
      "\t    6 - My relationship is going well and we're thinking about long-term commitment.\n",
      "\t    7 - I'm getting married and/or comitting to this relationship for the rest of my life.\n",
      "\t    \n",
      "\n",
      "\tWhat does the future of your relationship look like?\n",
      "\t1 - We're never speaking again.\n",
      "\t2 - We're probably going to see each other again at some point, but we won't be in touch much at all.\n",
      "\t3 - We might talk a bit less than we did in the past.\n",
      "\t4 - I'm not sure what our future is.\n",
      "\t5 - We've got some casual future plans but nothing serious lined up. OR We might hang out but I'm not sure.\n",
      "\t6 - We're going to be spending a fair amount of time together in the future.\n",
      "\t7 - We're going to be spending a large amount of time together. Like maybe getting married.\n",
      "\t\n",
      "\n",
      "\tWhat are the other person's feelings about you?\n",
      "\t1 - They've told me they hate me.\n",
      "\t2 - I think they don't like me that much. OR They've insulted me some.\n",
      "\t3 - They're nice to me but they see me as just a friend.\n",
      "\t4 - I'm not sure and/or they haven't made it clear to me.\n",
      "\t5 - They maybe have some non-platonic feelings for me but I'm not sure how strong they are.\n",
      "\t6 - They've told me that they have some feelings for me.\n",
      "\t7 - They have openly declared their love for me to the world.\n",
      "\t\n",
      "\n",
      "\tWhich of these best describes how you spend your time together?\n",
      "\t1 - There are significant barriers that prevent us from being together.\n",
      "\t2 - There aren't any insurmountable barriers between us, but we never do anything together.\n",
      "\t3 - We do some things together but spend most of our time doing things alone.\n",
      "\t4 - We do about the same amount of stuff together as we do alone.\n",
      "\t5 - We do some things alone but spend most of our time doing things together.\n",
      "\t6 - We do pretty much everything together.\n",
      "\t7 - We do everything together, and even when we aren't together I only think about us being together.\n",
      "\t\n",
      "\n",
      "\t    For these next two questions, think about how you feel about your life overall.\n",
      "\t    \n",
      "\tWhich of these best describes how you feel about yourself?\n",
      "\t1 - I have a lot of problems and they're all my fault.\n",
      "\t2 - I have a lot of problems, but I don't think they're all my fault.\n",
      "\t3 - I don't have a ton of significant problems, but sometimes I think I could do better.\n",
      "\t4 - I'm not really sure how I feel.\n",
      "\t5 - I feel pretty good about myself, and am just a little insecure on occasion.\n",
      "\t6 - I have a few concerns but feel very good overall.\n",
      "\t7 - I'm awesome, my life is awesome, this is the bomb.\n",
      "\t\n",
      "\n",
      "\tWhich of these describes your emotional state?\n",
      "\t1 - You're really angry about something and/or really depressed about something.\n",
      "\t2 - You don't like how your life is going and you just want to make a deal to get your old life back.\n",
      "\t3 - You know something's wrong with your life but you want to ignore it.\n",
      "\t4 - You've accepted the bad things that have happened to you and are ready to move on from them.\n",
      "\t5 - You're feeling pretty neutral and you're waiting for life to make you happy.\n",
      "\t6 - You're actively working to make yourself happy.\n",
      "\t7 - You're actively working to make yourself happy and trying to make sure that everyone else is happy too.\n",
      "\t\n",
      "Here are the top five songs that match your mood:\n",
      "1: Hey Stephen\n",
      "['\"Can\\'t help if I want to kiss you in the rain, so come feel this magic I\\'ve been feeling since I met you.\"'\n",
      " '']\n",
      "2: Enchanted\n",
      "['\"I\\'m wonderstruck, dancing around all alone. I\\'ll spend forever wondering if you knew I was enchanted to meet you.\"'\n",
      " '']\n",
      "3: Shake It Off\n",
      "['\"The haters gonna hate, hate, hate, hate, hate. Baby I\\'m just gonna shake, shake, shake, shake, shake. I shake it off.\" If you want to watch the music video, you can find it here! https://youtu.be/nfWlot6h_JM'\n",
      " '']\n",
      "4: …Ready For It?\n",
      "['\"In the middle of the night, in my dreams I know I\\'m gonna be with you so I take my time...Are you ready for it?\" If you want to watch the music video, you can find it here! https://youtu.be/wIft-t-MQuE'\n",
      " '']\n",
      "5: Place in This World, A\n",
      "['\"I\\'m alone, on my own, and that\\'s all I know. I\\'ll be strong, I\\'ll be wrong, oh but life goes on. Oh, I\\'m just a girl, trying to find a place in this world.\"'\n",
      " '']\n"
     ]
    }
   ],
   "source": [
    "taylorswift()"
   ]
  },
  {
   "cell_type": "code",
   "execution_count": null,
   "metadata": {},
   "outputs": [],
   "source": []
  }
 ],
 "metadata": {
  "kernelspec": {
   "display_name": "Python 3",
   "language": "python",
   "name": "python3"
  },
  "language_info": {
   "codemirror_mode": {
    "name": "ipython",
    "version": 3
   },
   "file_extension": ".py",
   "mimetype": "text/x-python",
   "name": "python",
   "nbconvert_exporter": "python",
   "pygments_lexer": "ipython3",
   "version": "3.11.9"
  }
 },
 "nbformat": 4,
 "nbformat_minor": 2
}
